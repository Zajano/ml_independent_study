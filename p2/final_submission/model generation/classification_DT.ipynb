{
  "nbformat": 4,
  "nbformat_minor": 0,
  "metadata": {
    "colab": {
      "name": "KMeans_Clustering.ipynb",
      "provenance": [],
      "collapsed_sections": []
    },
    "kernelspec": {
      "name": "python3",
      "display_name": "Python 3"
    }
  },
  "cells": [
    {
      "source": [
        "# Game Classification Model\n",
        "\n",
        "#### execute in same directory as 'game_data.csv'"
      ],
      "cell_type": "markdown",
      "metadata": {
        "id": "UID9RK1qDlVB",
        "colab_type": "text"
      }
    },
    {
      "cell_type": "code",
      "metadata": {
        "id": "kO_1kOEGDTws",
        "colab_type": "code",
        "colab": {
          "base_uri": "https://localhost:8080/",
          "height": 195
        },
        "outputId": "eccc66bd-8b04-4d4f-faa1-b4b0d22df5c8"
      },
      "source": [
        "import os, math\n",
        "import numpy as np\n",
        "import pandas as pd\n",
        "from sklearn.tree import DecisionTreeClassifier\n",
        "from sklearn.model_selection import train_test_split \n",
        "from sklearn import metrics\n",
        "\n",
        "# needs to be reset if a model is saved\n",
        "# os.chdir(working_dir_path)\n",
        "working_dir = os.getcwd()\n",
        "game_data = pd.read_csv('game_data.csv')\n",
        "game_data.head() # See the first 5 rows to check data import"
      ],
      "execution_count": 1,
      "outputs": [
        {
          "output_type": "execute_result",
          "data": {
            "text/plain": [
              "      id       type         name  year  minplayers  maxplayers  playingtime  \\\n",
              "0     13  boardgame        Catan  1995           3           4          120   \n",
              "1    822  boardgame  Carcassonne  2000           2           5           45   \n",
              "2  30549  boardgame     Pandemic  2008           2           4           45   \n",
              "3  68448  boardgame    7 Wonders  2010           2           7           30   \n",
              "4  36218  boardgame     Dominion  2008           2           4           30   \n",
              "\n",
              "   minplaytime  maxplaytime  minage  ...  bay_rating  owners  traders  \\\n",
              "0           60          120      10  ...     7.00456  141505     1792   \n",
              "1           30           45       7  ...     7.31303  137009     1577   \n",
              "2           45           45       8  ...     7.52214  141355     2157   \n",
              "3           30           30      10  ...     7.66507  103879     1342   \n",
              "4           30           30      13  ...     7.52473   96360     1887   \n",
              "\n",
              "   wanters  wishers  total_comments  total_weights  complexity  \\\n",
              "0      463     5218           17610           7137      2.3277   \n",
              "1      539     6164           17506           7239      1.9171   \n",
              "2      650     8444           15545           5180      2.4154   \n",
              "3     1042    10713           13112           4360      2.3323   \n",
              "4      629     7478           12876           4820      2.3591   \n",
              "\n",
              "                                          categories  \\\n",
              "0                        ['Economic', 'Negotiation']   \n",
              "1  ['City Building', 'Medieval', 'Territory Build...   \n",
              "2                                        ['Medical']   \n",
              "3  ['Ancient', 'Card Game', 'City Building', 'Civ...   \n",
              "4                          ['Card Game', 'Medieval']   \n",
              "\n",
              "                                           mechanics  \n",
              "0  ['Dice Rolling', 'Hexagon Grid', 'Income', 'Mo...  \n",
              "1  ['Area Majority / Influence', 'Map Addition', ...  \n",
              "2  ['Action Points', 'Cooperative Game', 'Hand Ma...  \n",
              "3  ['Card Drafting', 'Drafting', 'Hand Management...  \n",
              "4  ['Deck / Bag / Pool Building', 'Delayed Purcha...  \n",
              "\n",
              "[5 rows x 22 columns]"
            ],
            "text/html": "<div>\n<style scoped>\n    .dataframe tbody tr th:only-of-type {\n        vertical-align: middle;\n    }\n\n    .dataframe tbody tr th {\n        vertical-align: top;\n    }\n\n    .dataframe thead th {\n        text-align: right;\n    }\n</style>\n<table border=\"1\" class=\"dataframe\">\n  <thead>\n    <tr style=\"text-align: right;\">\n      <th></th>\n      <th>id</th>\n      <th>type</th>\n      <th>name</th>\n      <th>year</th>\n      <th>minplayers</th>\n      <th>maxplayers</th>\n      <th>playingtime</th>\n      <th>minplaytime</th>\n      <th>maxplaytime</th>\n      <th>minage</th>\n      <th>...</th>\n      <th>bay_rating</th>\n      <th>owners</th>\n      <th>traders</th>\n      <th>wanters</th>\n      <th>wishers</th>\n      <th>total_comments</th>\n      <th>total_weights</th>\n      <th>complexity</th>\n      <th>categories</th>\n      <th>mechanics</th>\n    </tr>\n  </thead>\n  <tbody>\n    <tr>\n      <th>0</th>\n      <td>13</td>\n      <td>boardgame</td>\n      <td>Catan</td>\n      <td>1995</td>\n      <td>3</td>\n      <td>4</td>\n      <td>120</td>\n      <td>60</td>\n      <td>120</td>\n      <td>10</td>\n      <td>...</td>\n      <td>7.00456</td>\n      <td>141505</td>\n      <td>1792</td>\n      <td>463</td>\n      <td>5218</td>\n      <td>17610</td>\n      <td>7137</td>\n      <td>2.3277</td>\n      <td>['Economic', 'Negotiation']</td>\n      <td>['Dice Rolling', 'Hexagon Grid', 'Income', 'Mo...</td>\n    </tr>\n    <tr>\n      <th>1</th>\n      <td>822</td>\n      <td>boardgame</td>\n      <td>Carcassonne</td>\n      <td>2000</td>\n      <td>2</td>\n      <td>5</td>\n      <td>45</td>\n      <td>30</td>\n      <td>45</td>\n      <td>7</td>\n      <td>...</td>\n      <td>7.31303</td>\n      <td>137009</td>\n      <td>1577</td>\n      <td>539</td>\n      <td>6164</td>\n      <td>17506</td>\n      <td>7239</td>\n      <td>1.9171</td>\n      <td>['City Building', 'Medieval', 'Territory Build...</td>\n      <td>['Area Majority / Influence', 'Map Addition', ...</td>\n    </tr>\n    <tr>\n      <th>2</th>\n      <td>30549</td>\n      <td>boardgame</td>\n      <td>Pandemic</td>\n      <td>2008</td>\n      <td>2</td>\n      <td>4</td>\n      <td>45</td>\n      <td>45</td>\n      <td>45</td>\n      <td>8</td>\n      <td>...</td>\n      <td>7.52214</td>\n      <td>141355</td>\n      <td>2157</td>\n      <td>650</td>\n      <td>8444</td>\n      <td>15545</td>\n      <td>5180</td>\n      <td>2.4154</td>\n      <td>['Medical']</td>\n      <td>['Action Points', 'Cooperative Game', 'Hand Ma...</td>\n    </tr>\n    <tr>\n      <th>3</th>\n      <td>68448</td>\n      <td>boardgame</td>\n      <td>7 Wonders</td>\n      <td>2010</td>\n      <td>2</td>\n      <td>7</td>\n      <td>30</td>\n      <td>30</td>\n      <td>30</td>\n      <td>10</td>\n      <td>...</td>\n      <td>7.66507</td>\n      <td>103879</td>\n      <td>1342</td>\n      <td>1042</td>\n      <td>10713</td>\n      <td>13112</td>\n      <td>4360</td>\n      <td>2.3323</td>\n      <td>['Ancient', 'Card Game', 'City Building', 'Civ...</td>\n      <td>['Card Drafting', 'Drafting', 'Hand Management...</td>\n    </tr>\n    <tr>\n      <th>4</th>\n      <td>36218</td>\n      <td>boardgame</td>\n      <td>Dominion</td>\n      <td>2008</td>\n      <td>2</td>\n      <td>4</td>\n      <td>30</td>\n      <td>30</td>\n      <td>30</td>\n      <td>13</td>\n      <td>...</td>\n      <td>7.52473</td>\n      <td>96360</td>\n      <td>1887</td>\n      <td>629</td>\n      <td>7478</td>\n      <td>12876</td>\n      <td>4820</td>\n      <td>2.3591</td>\n      <td>['Card Game', 'Medieval']</td>\n      <td>['Deck / Bag / Pool Building', 'Delayed Purcha...</td>\n    </tr>\n  </tbody>\n</table>\n<p>5 rows × 22 columns</p>\n</div>"
          },
          "metadata": {},
          "execution_count": 1
        }
      ]
    },
    {
      "cell_type": "markdown",
      "metadata": {
        "id": "q_pPmK9GIKMz",
        "colab_type": "text"
      },
      "source": [
        "## clean and filter data\n",
        "\n",
        "#### selective filtering for removing extremes, retain 'game_data' in case any reference to complete set is needed"
      ]
    },
    {
      "cell_type": "code",
      "metadata": {
        "id": "WevSKogFEalU",
        "colab_type": "code",
        "colab": {
          "base_uri": "https://localhost:8080/",
          "height": 295
        },
        "outputId": "dc31b65e-b7f5-4116-ec89-5790fdb604bc"
      },
      "source": [
        "bgg_games = game_data[game_data['maxplayers'] <= 30]\n",
        "bgg_games = bgg_games[bgg_games['minplaytime'] <= 180]\n",
        "bgg_games = bgg_games[bgg_games['maxplaytime'] <= 720]\n",
        "bgg_games = bgg_games[bgg_games['minage'] <= 21]\n",
        "bgg_games = bgg_games[bgg_games['playingtime'] >= 10]\n",
        "bgg_games = bgg_games[bgg_games['maxplayers'] >= bgg_games['minplayers']]"
      ],
      "execution_count": 2,
      "outputs": []
    },
    {
      "source": [
        "#### first selection of columns potentially relevant to 'categories'"
      ],
      "cell_type": "markdown",
      "metadata": {}
    },
    {
      "cell_type": "code",
      "execution_count": 3,
      "metadata": {},
      "outputs": [],
      "source": [
        "dtc_test = bgg_games[['type', 'year', 'minplayers', 'maxplayers', 'playingtime',\n",
        "       'minplaytime', 'maxplaytime', 'minage', 'users_rated', 'avg_rating',\n",
        "       'bay_rating', 'owners', 'traders', 'wanters', 'wishers',\n",
        "       'total_comments', 'total_weights', 'complexity', 'categories',\n",
        "       'mechanics']]"
      ]
    },
    {
      "source": [
        "#### convert strings of multiple values into lists"
      ],
      "cell_type": "markdown",
      "metadata": {}
    },
    {
      "cell_type": "code",
      "execution_count": 4,
      "metadata": {},
      "outputs": [],
      "source": [
        "dtc_test['categories'] = dtc_test['categories'].apply(lambda x: x.strip('][').split(', ') )\n",
        "dtc_test['mechanics'] = dtc_test['mechanics'].apply(lambda x: x.strip('][').split(', ') )"
      ]
    },
    {
      "source": [
        "#### count number of mechanics and categories for each game, make new columns"
      ],
      "cell_type": "markdown",
      "metadata": {}
    },
    {
      "cell_type": "code",
      "execution_count": 5,
      "metadata": {},
      "outputs": [],
      "source": [
        "dtc_test['num_mechs'] = dtc_test.apply(lambda row: len(row['mechanics']), axis=1)\n",
        "dtc_test['num_cats'] = dtc_test.apply(lambda row: len(row['categories']), axis=1)\n",
        "dtc_test['rating_diff'] = dtc_test.avg_rating - dtc_test.bay_rating\n",
        "dtc_test['player_diff'] = dtc_test.maxplayers - dtc_test.minplayers"
      ]
    },
    {
      "cell_type": "code",
      "execution_count": 6,
      "metadata": {},
      "outputs": [],
      "source": [
        "def split_data_frame_list(df, target_column, output_type=str):\n",
        "    ''' \n",
        "    Accepts a column with list values and splits into several rows.\n",
        "\n",
        "    df: dataframe to split\n",
        "    target_column: the column containing the values to split\n",
        "    output_type: type of all outputs\n",
        "    returns: a dataframe with each entry for the target column separated, with each element moved into a new row. \n",
        "    The values in the other columns are duplicated across the newly divided rows.\n",
        "    '''\n",
        "    row_accumulator = []\n",
        "\n",
        "    def split_list_to_rows(row):\n",
        "        split_row = row[target_column]\n",
        "        if isinstance(split_row, list):\n",
        "          for s in split_row:\n",
        "              new_row = row.to_dict()\n",
        "              new_row[target_column] = output_type(s)\n",
        "              row_accumulator.append(new_row)\n",
        "        else:\n",
        "          new_row = row.to_dict()\n",
        "          new_row[target_column] = output_type(split_row)\n",
        "          row_accumulator.append(new_row)\n",
        "  \n",
        "    df.apply(split_list_to_rows, axis=1)\n",
        "    new_df = pd.DataFrame(row_accumulator)\n",
        "  \n",
        "    return new_df"
      ]
    },
    {
      "source": [
        "#### split 'mechanics' lists into multiple rows for decision tree training"
      ],
      "cell_type": "markdown",
      "metadata": {}
    },
    {
      "cell_type": "code",
      "execution_count": 7,
      "metadata": {},
      "outputs": [],
      "source": [
        "dtc_test = split_data_frame_list(dtc_test, 'mechanics')"
      ]
    },
    {
      "source": [
        "#### Before filtering by year for model, split and test to remove old mechanics/categories that are no longer relevant "
      ],
      "cell_type": "markdown",
      "metadata": {}
    },
    {
      "cell_type": "code",
      "execution_count": 8,
      "metadata": {},
      "outputs": [],
      "source": [
        "\n",
        "# year by which to remove uniques to prevent models from being incompatible\n",
        "# -math.inf will include all games in dataframe\n",
        "break_year = 2000 #-math.inf\n",
        "\n",
        "old_mechs = list(dtc_test[dtc_test['year'] < break_year].mechanics.unique())\n",
        "new_mechs = list(dtc_test[dtc_test['year'] >= break_year].mechanics.unique())\n",
        "unique_old_mechs = list(set(old_mechs).difference(new_mechs))\n",
        "\n",
        "# remove rows with irrelevant mechanics\n",
        "dtc_test = dtc_test[~dtc_test.mechanics.isin(unique_old_mechs)]"
      ]
    },
    {
      "source": [
        "#### second selection of columns to further filter for decision tree model"
      ],
      "cell_type": "markdown",
      "metadata": {}
    },
    {
      "cell_type": "code",
      "execution_count": 9,
      "metadata": {},
      "outputs": [],
      "source": [
        "# columns to use\n",
        "desired_cols = ['type', 'year', 'minplayers','maxplayers', 'playingtime', 'minplaytime', 'maxplaytime', 'avg_rating', 'bay_rating', 'complexity', 'categories', 'mechanics', 'num_mechs', 'num_cats', 'minage', 'rating_diff', 'player_diff']\n",
        "\n",
        "# columns available\n",
        "#all_cols = ['type', 'year', 'minplayers', 'maxplayers', 'playingtime', 'minplaytime', 'maxplaytime', 'minage', 'users_rated', 'avg_rating', 'bay_rating', 'owners', 'traders', 'wanters', 'wishers', 'total_comments', 'total_weights', 'complexity', 'categories', 'mechanics', 'num_mechs', 'num_cats', 'minage', 'rating_diff', 'player_diff']\n",
        "\n",
        "# make dummies and attach to frame for tree model, leave categories alone\n",
        "total_frame = dtc_test[desired_cols]\n",
        "mech_dummies = pd.get_dummies(total_frame['mechanics'], prefix='mech', drop_first=True)\n",
        "total_frame = pd.concat([total_frame, mech_dummies], axis=1)\n",
        "type_dummies = pd.get_dummies(total_frame['type'], prefix='type', drop_first=True)\n",
        "total_frame = pd.concat([total_frame, type_dummies], axis=1)"
      ]
    },
    {
      "cell_type": "code",
      "execution_count": 10,
      "metadata": {},
      "outputs": [],
      "source": [
        "# preserve 'total frame' for testing with all years later\n",
        "tree_frame = total_frame[total_frame['year'] >= break_year]"
      ]
    },
    {
      "source": [
        "#### filter out categorical columns for tree fitting"
      ],
      "cell_type": "markdown",
      "metadata": {}
    },
    {
      "cell_type": "code",
      "execution_count": 11,
      "metadata": {},
      "outputs": [],
      "source": [
        "# list of just desired features, now including one-hot cols and remove categorical cols\n",
        "features = list(tree_frame.columns)\n",
        "\n",
        "# remove categorical cols\n",
        "features.remove('mechanics')\n",
        "features.remove('type')"
      ]
    },
    {
      "source": [
        "## Divide the data set\n",
        "#### split data into training portions"
      ],
      "cell_type": "markdown",
      "metadata": {}
    },
    {
      "cell_type": "code",
      "execution_count": 12,
      "metadata": {},
      "outputs": [],
      "source": [
        "# filtered features with one-hot fixes for categorical columns\n",
        "X = tree_frame[features]\n",
        "\n",
        "# target variable\n",
        "y = tree_frame[['categories']]\n",
        "\n",
        "# Split method, 0.3 == 30% of data saved for testing, choosen randomly from set\n",
        "X_train, X_test, y_train, y_test = train_test_split(X, y, test_size=0.3, random_state=42)"
      ]
    },
    {
      "source": [
        "#### split training data so model can \"learn\" different categories separately\n",
        "#### keep testing data intact for checking accuracy"
      ],
      "cell_type": "markdown",
      "metadata": {}
    },
    {
      "cell_type": "code",
      "execution_count": 13,
      "metadata": {},
      "outputs": [],
      "source": [
        "# split training data by category\n",
        "X_train = split_data_frame_list(X_train, 'categories')\n",
        "y_train = split_data_frame_list(y_train, 'categories')\n",
        "\n",
        "# remove target column from X_data\n",
        "# typically done before, but was needed for splitting training data\n",
        "X_train.drop('categories', inplace=True, axis=1)\n",
        "X_test.drop('categories', inplace=True, axis=1)"
      ]
    },
    {
      "source": [
        "## Train the model \n",
        "#### adjust variables prior to loop for hyperparameter adjustments"
      ],
      "cell_type": "markdown",
      "metadata": {}
    },
    {
      "cell_type": "code",
      "metadata": {
        "id": "Q42-XPJjIyXv",
        "colab_type": "code",
        "colab": {
          "base_uri": "https://localhost:8080/",
          "height": 285
        },
        "outputId": "94c92518-3ea7-48e3-999c-762159548e53"
      },
      "source": [
        "from copy import deepcopy\n",
        "\n",
        "best_accuracy = 0\n",
        "models_to_compare = 3\n",
        "tree_depth = 20\n",
        "for j in range(models_to_compare):\n",
        "    # Decision Tree classifer object\n",
        "    dtc = DecisionTreeClassifier(criterion=\"entropy\", splitter='best', max_depth=tree_depth)\n",
        "\n",
        "    # Train Decision Tree Classifer\n",
        "    dtc = dtc.fit(X_train,y_train)\n",
        "\n",
        "    # predictions by model for y\n",
        "    y_pred = dtc.predict(X_test)\n",
        "\n",
        "    # custom accuracy check\n",
        "    correct = 0\n",
        "    y_targets = y_test[\"categories\"].tolist() \n",
        "    for i in range(len(y_pred)):\n",
        "        if y_pred[i] in y_targets[i]:\n",
        "            correct += 1\n",
        "\n",
        "    accuracy = correct / len(y_pred)\n",
        "    if accuracy > best_accuracy:\n",
        "        best_dtc = deepcopy(dtc)\n",
        "        best_accuracy = accuracy\n",
        "        print(\"best accuracy: \", accuracy)\n",
        "\n",
        "print('done!')"
      ],
      "execution_count": 14,
      "outputs": [
        {
          "output_type": "stream",
          "name": "stdout",
          "text": [
            "best accuracy:  0.8910792883268241\n",
            "best accuracy:  0.891513235385283\n",
            "done!\n"
          ]
        }
      ]
    },
    {
      "source": [
        "#### Save model created in loop above"
      ],
      "cell_type": "markdown",
      "metadata": {}
    },
    {
      "cell_type": "code",
      "execution_count": 18,
      "metadata": {},
      "outputs": [
        {
          "output_type": "execute_result",
          "data": {
            "text/plain": [
              "['dtc_test_8752.joblib']"
            ]
          },
          "metadata": {},
          "execution_count": 18
        }
      ],
      "source": [
        "from joblib import dump, load\n",
        "\n",
        "# swtich to model directory\n",
        "model_dir = working_dir + \"\\models\"\n",
        "os.chdir(model_dir)\n",
        "\n",
        "# create and save file\n",
        "# [model type]_[deatils]_[accuracy]\n",
        "joblib_file = \"dtc_test_8752.joblib\"  \n",
        "dump(best_dtc, joblib_file)"
      ]
    },
    {
      "source": [
        "## load and test model"
      ],
      "cell_type": "markdown",
      "metadata": {}
    },
    {
      "cell_type": "code",
      "execution_count": 19,
      "metadata": {},
      "outputs": [],
      "source": [
        "# swtich to model directory and load\n",
        "model_dir = working_dir + \"\\models\"\n",
        "os.chdir(model_dir)\n",
        "\n",
        "# name of model in folder\n",
        "joblib_file = \"dtc_test_8752.joblib\"  \n",
        "joblib_model = load(joblib_file)"
      ]
    },
    {
      "source": [
        "#### get new set not limited by year (if desired for 'complete' check)"
      ],
      "cell_type": "markdown",
      "metadata": {}
    },
    {
      "cell_type": "code",
      "execution_count": 20,
      "metadata": {},
      "outputs": [],
      "source": [
        "# before year trimmed\n",
        "X = total_frame[features]\n",
        "y = total_frame[['categories']]"
      ]
    },
    {
      "source": [
        "#### split data into new set to compare against"
      ],
      "cell_type": "markdown",
      "metadata": {}
    },
    {
      "cell_type": "code",
      "execution_count": 21,
      "metadata": {},
      "outputs": [],
      "source": [
        "# percent of data to use for test\n",
        "pod = 50\n",
        "\n",
        "# split into new set to test\n",
        "X_train, X_test, y_train, y_test = train_test_split(X, y, test_size=(pod/100), random_state=1)\n",
        "\n",
        "# then remove category column\n",
        "X_test.drop('categories', inplace=True, axis=1)"
      ]
    },
    {
      "source": [
        "#### test loaded model's accuracy"
      ],
      "cell_type": "markdown",
      "metadata": {}
    },
    {
      "cell_type": "code",
      "execution_count": 22,
      "metadata": {},
      "outputs": [
        {
          "output_type": "stream",
          "name": "stdout",
          "text": [
            "Accuracy: 0.9615815233037971\n"
          ]
        }
      ],
      "source": [
        "y_pred = joblib_model.predict(X_test)\n",
        "\n",
        "correct = 0\n",
        "y_targets = y_test[\"categories\"].tolist() \n",
        "for i in range(len(y_pred)):\n",
        "    if y_pred[i] in y_targets[i]:\n",
        "        correct += 1\n",
        "\n",
        "print(\"Accuracy:\", correct / len(y_pred))"
      ]
    }
  ]
}